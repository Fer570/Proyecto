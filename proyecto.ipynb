{
 "cells": [
  {
   "cell_type": "markdown",
   "id": "8873a296-1353-4ba9-8d70-7b8c1f9a189f",
   "metadata": {},
   "source": [
    "<div class=\"alert alert-block alert-success\">\n",
    "\n",
    "# Proyecto.\n",
    "\n",
    "Usando la información del archivo `personal_data.csv` crear una aplicación que pregunte el ID del paciente y genere la siguiente salida:\n",
    "\n",
    "<img src=\"../figuras/proyecto.png\" width=350px>\n",
    "\n",
    "</div>"
   ]
  },
  {
   "cell_type": "code",
   "execution_count": 23,
   "id": "8f3ef88a-9269-4fc3-bfcd-089e6620361e",
   "metadata": {},
   "outputs": [
    {
     "name": "stdout",
     "output_type": "stream",
     "text": [
      "――――――――――――――――――――――――――――――――――――――――――――――――――\n",
      "                   Sistema XYZ                    \n",
      "――――――――――――――――――――――――――――――――――――――――――――――――――\n"
     ]
    },
    {
     "name": "stdin",
     "output_type": "stream",
     "text": [
      "ID. pacientes (separados por coma):  44,2,88,5\n"
     ]
    },
    {
     "name": "stdout",
     "output_type": "stream",
     "text": [
      "――――――――――――――――――――――――――――――――――――――――――――――――――\n",
      "                      Paciente :   2  \n",
      "                          Sexo :   m  \n",
      "                          Edad :  57  \n",
      "                          Peso :  88  \n",
      "                      Estatura : 1.59 \n",
      "\u001b[31m\u001b[1m                           IMC : 34.81\u001b[0m\n",
      "                      Diabetes :  No  \n",
      "\u001b[31m\u001b[1m                  Hipertensión :  Si  \u001b[0m\n",
      "                     Depresión :  No  \n",
      "           Trastorno del sueño :  No  \n",
      "  Trastorno de la alimentación :  No  \n",
      "――――――――――――――――――――――――――――――――――――――――――――――――――\n",
      "                      Paciente :   5  \n",
      "                          Sexo :   m  \n",
      "                          Edad :  67  \n",
      "                          Peso :  97  \n",
      "                      Estatura : 1.68 \n",
      "\u001b[31m\u001b[1m                           IMC : 34.37\u001b[0m\n",
      "                      Diabetes :  No  \n",
      "                  Hipertensión :  No  \n",
      "\u001b[31m\u001b[1m                     Depresión :  Si  \u001b[0m\n",
      "\u001b[31m\u001b[1m           Trastorno del sueño :  Si  \u001b[0m\n",
      "  Trastorno de la alimentación :  No  \n",
      "――――――――――――――――――――――――――――――――――――――――――――――――――\n",
      "                      Paciente :  44  \n",
      "                          Sexo :   m  \n",
      "                          Edad :  49  \n",
      "                          Peso :  70  \n",
      "                      Estatura : 1.65 \n",
      "                           IMC : 25.71\n",
      "                      Diabetes :  No  \n",
      "                  Hipertensión :  No  \n",
      "                     Depresión :  No  \n",
      "           Trastorno del sueño :  No  \n",
      "  Trastorno de la alimentación :  No  \n",
      "――――――――――――――――――――――――――――――――――――――――――――――――――\n",
      "                      Paciente :  88  \n",
      "                          Sexo :   h  \n",
      "                          Edad :  50  \n",
      "                          Peso :  87  \n",
      "                      Estatura : 1.73 \n",
      "                           IMC : 29.07\n",
      "                      Diabetes :  No  \n",
      "                  Hipertensión :  No  \n",
      "                     Depresión :  No  \n",
      "           Trastorno del sueño :  No  \n",
      "  Trastorno de la alimentación :  No  \n",
      "――――――――――――――――――――――――――――――――――――――――――――――――――\n"
     ]
    }
   ],
   "source": [
    "import proyecto\n",
    "proyecto.ejecutar()"
   ]
  },
  {
   "cell_type": "markdown",
   "id": "4b3dfa15-921c-4e81-b89e-47e053e4037d",
   "metadata": {},
   "source": [
    "# Colorama\n",
    "\n",
    "Biblioteca para colorear la salida (https://pypi.org/project/colorama/)"
   ]
  },
  {
   "cell_type": "code",
   "execution_count": 1,
   "id": "db8c4517-8404-4dbd-8efa-a47815de162e",
   "metadata": {},
   "outputs": [],
   "source": [
    "from colorama import Fore, Style"
   ]
  },
  {
   "cell_type": "markdown",
   "id": "22645cba-7523-4697-ba87-77a3cd3611ad",
   "metadata": {},
   "source": [
    "## Función para la lectura de datos."
   ]
  },
  {
   "cell_type": "code",
   "execution_count": 21,
   "id": "7c60927a-e756-4d54-8281-103bf9f54972",
   "metadata": {},
   "outputs": [],
   "source": [
    "def obtener_datos_entrada():\n",
    "    pass"
   ]
  },
  {
   "cell_type": "code",
   "execution_count": null,
   "id": "45417e2d-8707-4b99-990e-9732d70c0164",
   "metadata": {},
   "outputs": [],
   "source": []
  },
  {
   "cell_type": "code",
   "execution_count": 22,
   "id": "6dd8c121-5875-44a7-b3d4-e3bb866eca83",
   "metadata": {},
   "outputs": [],
   "source": [
    "# Probar la función 'lectura_datos()'\n",
    "obtener_datos_entrada()"
   ]
  },
  {
   "cell_type": "markdown",
   "id": "d3bcc766-2446-4800-a8fe-615c76514407",
   "metadata": {},
   "source": [
    "## Función para desplegar la pantalla inicial."
   ]
  },
  {
   "cell_type": "code",
   "execution_count": 23,
   "id": "00984ef8-60cd-4ce6-bd06-17bcc18cce3f",
   "metadata": {},
   "outputs": [],
   "source": [
    "def desplegar_pantalla_inicio():\n",
    "    pass"
   ]
  },
  {
   "cell_type": "code",
   "execution_count": 24,
   "id": "d342df74-526a-4168-97d6-e745b9cbc3a0",
   "metadata": {},
   "outputs": [],
   "source": [
    "# Probar la función 'pantalla_inicio()'\n",
    "desplegar_pantalla_inicio()"
   ]
  },
  {
   "cell_type": "markdown",
   "id": "f965e999-5d52-4ea5-bbcb-1e222a4216e6",
   "metadata": {},
   "source": [
    "## Funciones para abrir y cerrar el archivo de datos"
   ]
  },
  {
   "cell_type": "code",
   "execution_count": 25,
   "id": "5e1b3914-5ead-401a-a6ae-55ef8f4cf4fb",
   "metadata": {},
   "outputs": [],
   "source": [
    "def abrir_archivo(nombre = \"../archivos/personal_data.csv\"):\n",
    "    pass\n",
    "\n",
    "def cerrar_archivo(file_descriptor):\n",
    "    pass"
   ]
  },
  {
   "cell_type": "code",
   "execution_count": null,
   "id": "3ee96c36-8a90-4e67-8173-37f2494089b9",
   "metadata": {},
   "outputs": [],
   "source": [
    "# Probar las funciones 'abrir_archivo()' y 'cerrar_archivo()'"
   ]
  },
  {
   "cell_type": "markdown",
   "id": "6620baa9-384a-43b5-a424-f8c3d4b4bbea",
   "metadata": {},
   "source": [
    "## Función para leer la información del archivo"
   ]
  },
  {
   "cell_type": "code",
   "execution_count": 27,
   "id": "a201ddd5-4ee4-4e92-8142-1ab0b952af9c",
   "metadata": {},
   "outputs": [],
   "source": [
    "def leer_archivo(IDs):\n",
    "    pass"
   ]
  },
  {
   "cell_type": "markdown",
   "id": "bfc67de6-cebb-4acf-a07a-64c78df4d499",
   "metadata": {},
   "source": [
    "## Función para transformar la info a diccionario"
   ]
  },
  {
   "cell_type": "code",
   "execution_count": 28,
   "id": "f0ab8f24-3a04-4158-9ee0-8adaf0dd4ccb",
   "metadata": {},
   "outputs": [],
   "source": [
    "def transformar_datos(r, e):\n",
    "    pass"
   ]
  },
  {
   "cell_type": "markdown",
   "id": "0d517a29-35c4-4446-abac-a230df93d2e1",
   "metadata": {},
   "source": [
    "## Función para desplegar la información"
   ]
  },
  {
   "cell_type": "code",
   "execution_count": 29,
   "id": "3b5b5fd1-7b60-4c87-9ee2-48cf9e85d3ef",
   "metadata": {},
   "outputs": [],
   "source": [
    "def desplegar_datos(d):\n",
    "    pass"
   ]
  },
  {
   "cell_type": "markdown",
   "id": "b4069916-f08f-477e-89ea-48c3e05c6f45",
   "metadata": {},
   "source": [
    "## Función para determinar el nivel de IMC"
   ]
  },
  {
   "cell_type": "code",
   "execution_count": 30,
   "id": "6555691f-5d48-44eb-a3a5-5710b8cd7cf3",
   "metadata": {},
   "outputs": [],
   "source": [
    "def calcular_nivel_IMC(imc):\n",
    "    pass"
   ]
  },
  {
   "cell_type": "markdown",
   "id": "fa318a9c-cffe-4bb9-812b-6252cc6af4bc",
   "metadata": {},
   "source": [
    "## Ejecución"
   ]
  },
  {
   "cell_type": "markdown",
   "id": "5a593a42-2a5a-4c22-9e20-3be05fee6e0f",
   "metadata": {},
   "source": [
    "### Se usaron algunas partes sugeridas en el proyecto de ejemplo, así como la metodologia vista en clase. "
   ]
  },
  {
   "cell_type": "code",
   "execution_count": 9,
   "id": "fa083cb8-2bcd-49c3-a258-d42c7c8867d7",
   "metadata": {},
   "outputs": [
    {
     "name": "stdin",
     "output_type": "stream",
     "text": [
      "Ingresa una serie de números separados por comas: 5,75,111\n"
     ]
    },
    {
     "name": "stdout",
     "output_type": "stream",
     "text": [
      "__________________________________________________\n",
      "            Información de 3 pacientes            \n",
      "__________________________________________________\n",
      " ID's de pacientes (separados por coma): 5,75,111 \n",
      "__________________________________________________\n",
      "\n",
      "Datos del paciente con ID 5:\n",
      "                      Paciente: 5     \n",
      "                          Sexo: m     \n",
      "                          Edad: 67    \n",
      "                          Peso: 97    \n",
      "                      Estatura: 1.68  \n",
      "                           IMC: \u001b[31m34.37 \u001b[0m\n",
      "                      Diabetes: No    \n",
      "                  Hipertensión: No    \n",
      "                     Depresión: \u001b[31mSi    \u001b[0m\n",
      "           Trastorno del sueño: \u001b[31mSi    \u001b[0m\n",
      "  Trastorno de la alimentación: No    \n",
      "__________________________________________________\n",
      "\n",
      "Datos del paciente con ID 75:\n",
      "                      Paciente: 75    \n",
      "                          Sexo: m     \n",
      "                          Edad: 45    \n",
      "                          Peso: 65    \n",
      "                      Estatura: 1.56  \n",
      "                           IMC: 26.71 \n",
      "                      Diabetes: No    \n",
      "                  Hipertensión: \u001b[31mSi    \u001b[0m\n",
      "                     Depresión: No    \n",
      "           Trastorno del sueño: No    \n",
      "  Trastorno de la alimentación: \u001b[31mSi    \u001b[0m\n",
      "__________________________________________________\n",
      "El paciente con número 111 no se encuentra registrado.\n"
     ]
    }
   ],
   "source": [
    "# Importar colorama para colorear la salida\n",
    "from colorama import Fore, Style\n",
    "\n",
    "# Solicitar al usuario una serie de números separados por comas\n",
    "numeros_input = input(\"Ingresa una serie de números separados por comas:\").split(',')\n",
    "\n",
    "# Dividir el string en partes separadas por la coma y convertirlas a enteros\n",
    "numeros_input = [int(i.strip()) for i in numeros_input]\n",
    "\n",
    "Names = len(numeros_input)\n",
    "\n",
    "print(\"_\"*50)\n",
    "print((\"Información de \" + str(Names) + \" pacientes\").center(50))\n",
    "\n",
    "print(\"_\"*50)\n",
    "print((\"ID's de pacientes (separados por coma): \" + ','.join(map(str,numeros_input))).center(50))\n",
    "\n",
    "\n",
    "f = open(\"personal_data.csv\", \"r\")\n",
    "\n",
    "e = f.readline().split(',')\n",
    "\n",
    "e[-1] = e[-1][:-1]\n",
    "\n",
    "#Diccionario del encabezado\n",
    "dicc_e = dict(Pa = \"Paciente\", \n",
    "                  S = \"Sexo\",\n",
    "                  E = \"Edad\",\n",
    "                  Pe = \"Peso\",\n",
    "                  A = \"Estatura\",\n",
    "                  IMC = \"IMC\",\n",
    "                  Di = \"Diabetes\",\n",
    "                  H = \"Hipertensión\",\n",
    "                  De = \"Depresión\",\n",
    "                  TS = \"Trastorno del sueño\",\n",
    "                  TA = \"Trastorno de la alimentación\"\n",
    "                 )\n",
    "\n",
    "def colorear_valores(dicc):\n",
    "    for key, value in dicc.items():\n",
    "        # Colorear en rojo si el valor de las categóricas es  es \"si\" o si el IMC es mayor a 30\n",
    "        if value.strip() == \"Si\":\n",
    "            print(f\"{dicc_e[key]:>30}: {Fore.RED}{value:<6}{Style.RESET_ALL}\")\n",
    "        elif key == \"IMC\" and float(value) > 30:\n",
    "            print(f\"{dicc_e[key]:>30}: {Fore.RED}{value:<6}{Style.RESET_ALL}\")\n",
    "        else:\n",
    "            print(f\"{dicc_e[key]:>30}: {value:<6}\")\n",
    "for i, r in enumerate(f):\n",
    "    dicc = {}\n",
    "    for k, v in zip(e, r.split(',')):\n",
    "        dicc[k] = v\n",
    "    dicc[e[-1]] = dicc[e[-1]].strip()\n",
    "    # Verificar si el ID del paciente está en la lista de números ingresados\n",
    "    if int(dicc['Pa']) in numeros_input:\n",
    "        print(\"_\"*50)\n",
    "        print(f\"\\nDatos del paciente con ID {dicc['Pa']}:\")\n",
    "        # Llamada a la función para colorear valores\n",
    "        colorear_valores(dicc)\n",
    "\n",
    "print(\"_\"*50)\n",
    "#Verificacion si algún ID está fuera de la lista. \n",
    "for num in numeros_input:\n",
    "    if num >= 100:\n",
    "        print(f\"El paciente con número {num} no se encuentra registrado.\")\n",
    "\n",
    "# Cerrar el archivo\n",
    "f.close()\n",
    "\n"
   ]
  },
  {
   "cell_type": "code",
   "execution_count": null,
   "id": "dd83a377-6ed0-46c7-be66-85728e55798f",
   "metadata": {},
   "outputs": [],
   "source": []
  },
  {
   "cell_type": "code",
   "execution_count": null,
   "id": "40d9a267-8b71-4df1-b29b-0eb99fdd806b",
   "metadata": {},
   "outputs": [],
   "source": []
  }
 ],
 "metadata": {
  "kernelspec": {
   "display_name": "Python 3 (ipykernel)",
   "language": "python",
   "name": "python3"
  },
  "language_info": {
   "codemirror_mode": {
    "name": "ipython",
    "version": 3
   },
   "file_extension": ".py",
   "mimetype": "text/x-python",
   "name": "python",
   "nbconvert_exporter": "python",
   "pygments_lexer": "ipython3",
   "version": "3.11.6"
  }
 },
 "nbformat": 4,
 "nbformat_minor": 5
}
